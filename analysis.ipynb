{
 "cells": [
  {
   "cell_type": "code",
   "execution_count": 1,
   "metadata": {
    "collapsed": true,
    "ExecuteTime": {
     "end_time": "2023-07-06T23:04:19.812270819Z",
     "start_time": "2023-07-06T23:04:19.455410278Z"
    }
   },
   "outputs": [],
   "source": [
    "import pandas as pd\n",
    "from somda_project.s3_funcs import create_minio_client,retrieve_file\n",
    "from dotenv import load_dotenv\n",
    "load_dotenv()"
   ]
  },
  {
   "cell_type": "code",
   "execution_count": null,
   "outputs": [],
   "source": [
    "endpoint = os.environ.get(\"BUCKET_ENDPOINT\")\n",
    "bucket_id = os.environ.get(\"BUCKET_ID\")\n",
    "access_key = os.environ.get(\"BUCKET_ACCESS_KEY_ID\")\n",
    "secret_key = os.environ.get(\"BUCKET_SECRET_KEY\")\n",
    "region = os.environ.get(\"BUCKET_REGION\")\n",
    "client = create_minio_client(endpoint, access_key, secret_key, region)"
   ],
   "metadata": {
    "collapsed": false
   }
  },
  {
   "cell_type": "code",
   "execution_count": null,
   "outputs": [],
   "source": [
    "csv = retrieve_file(client, f\"merged_election_pages.csv\", bucket_id)"
   ],
   "metadata": {
    "collapsed": false
   }
  }
 ],
 "metadata": {
  "kernelspec": {
   "display_name": "Python 3",
   "language": "python",
   "name": "python3"
  },
  "language_info": {
   "codemirror_mode": {
    "name": "ipython",
    "version": 2
   },
   "file_extension": ".py",
   "mimetype": "text/x-python",
   "name": "python",
   "nbconvert_exporter": "python",
   "pygments_lexer": "ipython2",
   "version": "2.7.6"
  }
 },
 "nbformat": 4,
 "nbformat_minor": 0
}
