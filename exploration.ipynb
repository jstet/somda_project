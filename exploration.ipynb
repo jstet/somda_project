{
 "cells": [
  {
   "cell_type": "code",
   "execution_count": 62,
   "metadata": {},
   "outputs": [],
   "source": [
    "import pandas as pd"
   ]
  },
  {
   "cell_type": "code",
   "execution_count": 63,
   "metadata": {},
   "outputs": [
    {
     "data": {
      "text/html": [
       "<div>\n",
       "<style scoped>\n",
       "    .dataframe tbody tr th:only-of-type {\n",
       "        vertical-align: middle;\n",
       "    }\n",
       "\n",
       "    .dataframe tbody tr th {\n",
       "        vertical-align: top;\n",
       "    }\n",
       "\n",
       "    .dataframe thead th {\n",
       "        text-align: right;\n",
       "    }\n",
       "</style>\n",
       "<table border=\"1\" class=\"dataframe\">\n",
       "  <thead>\n",
       "    <tr style=\"text-align: right;\">\n",
       "      <th></th>\n",
       "      <th>wikicode</th>\n",
       "      <th>hourly_views</th>\n",
       "    </tr>\n",
       "    <tr>\n",
       "      <th>timestamp</th>\n",
       "      <th></th>\n",
       "      <th></th>\n",
       "    </tr>\n",
       "  </thead>\n",
       "  <tbody>\n",
       "    <tr>\n",
       "      <th>2014-05-08</th>\n",
       "      <td>cs.wikipedia</td>\n",
       "      <td>0.0</td>\n",
       "    </tr>\n",
       "    <tr>\n",
       "      <th>2014-05-08</th>\n",
       "      <td>da.wikipedia</td>\n",
       "      <td>0.0</td>\n",
       "    </tr>\n",
       "    <tr>\n",
       "      <th>2014-05-08</th>\n",
       "      <td>de.wikipedia</td>\n",
       "      <td>33.0</td>\n",
       "    </tr>\n",
       "    <tr>\n",
       "      <th>2014-05-08</th>\n",
       "      <td>el.wikipedia</td>\n",
       "      <td>2.0</td>\n",
       "    </tr>\n",
       "    <tr>\n",
       "      <th>2014-05-08</th>\n",
       "      <td>fi.wikipedia</td>\n",
       "      <td>2.0</td>\n",
       "    </tr>\n",
       "  </tbody>\n",
       "</table>\n",
       "</div>"
      ],
      "text/plain": [
       "                wikicode  hourly_views\n",
       "timestamp                             \n",
       "2014-05-08  cs.wikipedia           0.0\n",
       "2014-05-08  da.wikipedia           0.0\n",
       "2014-05-08  de.wikipedia          33.0\n",
       "2014-05-08  el.wikipedia           2.0\n",
       "2014-05-08  fi.wikipedia           2.0"
      ]
     },
     "execution_count": 63,
     "metadata": {},
     "output_type": "execute_result"
    }
   ],
   "source": [
    "df = pd.read_csv(\"data/merged_election_pages.csv\", parse_dates=['timestamp'],\n",
    "                                      index_col=['timestamp'],)\n",
    "\n",
    "df.head()"
   ]
  },
  {
   "cell_type": "code",
   "execution_count": 64,
   "metadata": {},
   "outputs": [],
   "source": [
    "df_14 = df.loc[df.index.year == 2014]"
   ]
  },
  {
   "cell_type": "code",
   "execution_count": 65,
   "metadata": {},
   "outputs": [
    {
     "data": {
      "text/plain": [
       "array(['cs.wikipedia', 'da.wikipedia', 'el.wikipedia', 'fi.wikipedia',\n",
       "       'hu.wikipedia', 'nl.wikipedia', 'pl.wikipedia', 'sv.wikipedia',\n",
       "       'it.wikipedia', 'es.wikipedia', 'fr.wikipedia', 'de.wikipedia',\n",
       "       'sl.wikipedia', 'en.wikipedia'], dtype=object)"
      ]
     },
     "execution_count": 65,
     "metadata": {},
     "output_type": "execute_result"
    }
   ],
   "source": [
    "df_14[df_14[\"hourly_views\"] < 10][\"wikicode\"].unique()"
   ]
  },
  {
   "cell_type": "code",
   "execution_count": 66,
   "metadata": {},
   "outputs": [
    {
     "data": {
      "text/plain": [
       "timestamp\n",
       "2014-05-08 00:00:00    sl.wikipedia\n",
       "2014-05-08 01:00:00    sl.wikipedia\n",
       "2014-05-08 02:00:00    sl.wikipedia\n",
       "2014-05-08 03:00:00    sl.wikipedia\n",
       "2014-05-08 04:00:00    sl.wikipedia\n",
       "                           ...     \n",
       "2014-05-13 19:00:00    sl.wikipedia\n",
       "2014-05-13 20:00:00    sl.wikipedia\n",
       "2014-05-13 21:00:00    sl.wikipedia\n",
       "2014-05-13 22:00:00    sl.wikipedia\n",
       "2014-05-13 23:00:00    sl.wikipedia\n",
       "Name: wikicode, Length: 144, dtype: object"
      ]
     },
     "execution_count": 66,
     "metadata": {},
     "output_type": "execute_result"
    }
   ],
   "source": [
    "df_14[df_14[\"hourly_views\"].isna()][\"wikicode\"]"
   ]
  },
  {
   "cell_type": "code",
   "execution_count": 67,
   "metadata": {},
   "outputs": [
    {
     "data": {
      "text/plain": [
       "array(['cs.wikipedia', 'da.wikipedia', 'de.wikipedia', 'el.wikipedia',\n",
       "       'fi.wikipedia', 'fr.wikipedia', 'hu.wikipedia', 'it.wikipedia',\n",
       "       'nl.wikipedia', 'pl.wikipedia', 'en.wikipedia', 'sv.wikipedia',\n",
       "       'es.wikipedia', 'sl.wikipedia'], dtype=object)"
      ]
     },
     "execution_count": 67,
     "metadata": {},
     "output_type": "execute_result"
    }
   ],
   "source": [
    "df[\"wikicode\"].unique()"
   ]
  },
  {
   "cell_type": "code",
   "execution_count": 68,
   "metadata": {},
   "outputs": [
    {
     "data": {
      "text/plain": [
       "Series([], Name: wikicode, dtype: object)"
      ]
     },
     "execution_count": 68,
     "metadata": {},
     "output_type": "execute_result"
    }
   ],
   "source": [
    "df_19 = df.loc[df.index.year == 2019]\n",
    "df_19[df_19[\"hourly_views\"].isna()][\"wikicode\"]"
   ]
  },
  {
   "cell_type": "code",
   "execution_count": 71,
   "metadata": {},
   "outputs": [
    {
     "data": {
      "text/plain": [
       "array(['cs.wikipedia', 'fi.wikipedia', 'pl.wikipedia', 'nl.wikipedia',\n",
       "       'sl.wikipedia', 'da.wikipedia', 'el.wikipedia', 'es.wikipedia',\n",
       "       'hu.wikipedia', 'sv.wikipedia', 'fr.wikipedia', 'it.wikipedia'],\n",
       "      dtype=object)"
      ]
     },
     "execution_count": 71,
     "metadata": {},
     "output_type": "execute_result"
    }
   ],
   "source": [
    "df_19[df_19[\"hourly_views\"] == 0][\"wikicode\"].unique()"
   ]
  },
  {
   "cell_type": "code",
   "execution_count": 70,
   "metadata": {},
   "outputs": [
    {
     "data": {
      "text/plain": [
       "DatetimeIndex(['2014-05-08 00:00:00', '2014-05-08 01:00:00',\n",
       "               '2014-05-08 02:00:00', '2014-05-08 03:00:00',\n",
       "               '2014-05-08 04:00:00', '2014-05-08 05:00:00',\n",
       "               '2014-05-08 06:00:00', '2014-05-08 07:00:00',\n",
       "               '2014-05-08 08:00:00', '2014-05-08 09:00:00',\n",
       "               ...\n",
       "               '2014-06-08 14:00:00', '2014-06-08 15:00:00',\n",
       "               '2014-06-08 16:00:00', '2014-06-08 17:00:00',\n",
       "               '2014-06-08 18:00:00', '2014-06-08 19:00:00',\n",
       "               '2014-06-08 20:00:00', '2014-06-08 21:00:00',\n",
       "               '2014-06-08 22:00:00', '2014-06-08 23:00:00'],\n",
       "              dtype='datetime64[ns]', name='timestamp', length=768, freq=None)"
      ]
     },
     "execution_count": 70,
     "metadata": {},
     "output_type": "execute_result"
    }
   ],
   "source": [
    "df_14.index.unique()"
   ]
  }
 ],
 "metadata": {
  "kernelspec": {
   "display_name": "somda-project-VWDp9XMn-py3.10",
   "language": "python",
   "name": "python3"
  },
  "language_info": {
   "codemirror_mode": {
    "name": "ipython",
    "version": 3
   },
   "file_extension": ".py",
   "mimetype": "text/x-python",
   "name": "python",
   "nbconvert_exporter": "python",
   "pygments_lexer": "ipython3",
   "version": "3.10.12"
  },
  "orig_nbformat": 4
 },
 "nbformat": 4,
 "nbformat_minor": 2
}
